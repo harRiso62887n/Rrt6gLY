{
 "cells": [
  {
   "cell_type": "code",
   "execution_count": 4,
   "metadata": {},
   "outputs": [],
   "source": [
    "import requests\n",
    "import json\n",
    "\n",
    "BASE_URL  = \"http://localhost:8056\" # Replace with the actual Vexa API base URL\n",
    "API_KEY = \"mx7MPW29k06NgGUEOxkS0f7xMnPpusUgb9puZegC\" # Replace with your actual API key\n",
    "\n",
    "HEADERS = {\n",
    "    \"X-API-Key\": API_KEY,\n",
    "    \"Content-Type\": \"application/json\" # Include for POST/PUT, harmless for GET/DELETE\n",
    "}\n",
    "\n",
    "meeting_platform = \"google_meet\"\n",
    "meeting_id = \"csz-gcbc-nwm\" # Replace with a real meeting ID/URL part"
   ]
  },
  {
   "cell_type": "code",
   "execution_count": 31,
   "metadata": {},
   "outputs": [],
   "source": [
    "meeting_id = \"vtf-ikmq-afi\" "
   ]
  },
  {
   "cell_type": "code",
   "execution_count": 33,
   "metadata": {},
   "outputs": [],
   "source": [
    "meeting_id = 'bao-paod-vam'"
   ]
  },
  {
   "cell_type": "code",
   "execution_count": 36,
   "metadata": {},
   "outputs": [],
   "source": [
    "meeting_id = 'hnz-giry-oqx'"
   ]
  },
  {
   "cell_type": "code",
   "execution_count": 37,
   "metadata": {},
   "outputs": [
    {
     "data": {
      "text/plain": [
       "{'detail': 'Active meeting not found.'}"
      ]
     },
     "execution_count": 37,
     "metadata": {},
     "output_type": "execute_result"
    }
   ],
   "source": [
    "stop_bot_url = f\"{BASE_URL}/bots/{meeting_platform}/{meeting_id}\"\n",
    "\n",
    "response = requests.delete(stop_bot_url, headers=HEADERS)\n",
    "response.json()"
   ]
  },
  {
   "cell_type": "code",
   "execution_count": 40,
   "metadata": {},
   "outputs": [
    {
     "name": "stdout",
     "output_type": "stream",
     "text": [
      "{'detail': 'Invalid API token'}\n"
     ]
    }
   ],
   "source": [
    "\n",
    "request_bot_url = f\"{BASE_URL}/bots\"\n",
    "request_bot_payload = {\n",
    "    \"platform\": meeting_platform,\n",
    "    \"native_meeting_id\": meeting_id,\n",
    "    \"language\": \"en\", # Optional: specify language\n",
    "    \"bot_name\": \"MyMeetingBot\" # Optional: custom name\n",
    "}\n",
    "\n",
    "response = requests.post(request_bot_url, headers=HEADERS, json=request_bot_payload)\n",
    "print(response.json())"
   ]
  },
  {
   "cell_type": "code",
   "execution_count": null,
   "metadata": {},
   "outputs": [
    {
     "name": "stdout",
     "output_type": "stream",
     "text": [
      "\n",
      "DEBUG: Making GET request to http://localhost:8056/bots/status\n",
      "DEBUG: Headers: {'Content-Type': 'application/json', 'X-API-Key': 'yl9x4xUZdXnLZsRxfj6A7IQJEyf2czFpQBjV1e93'}\n",
      "DEBUG: Params: None\n",
      "DEBUG: JSON data: None\n",
      "DEBUG: Response status: 200\n",
      "DEBUG: Response headers: {'date': 'Tue, 22 Apr 2025 13:58:29 GMT, Tue, 22 Apr 2025 13:58:29 GMT', 'server': 'uvicorn, uvicorn', 'content-length': '1202', 'content-type': 'application/json'}\n",
      "DEBUG: Response content: {\"running_bots\":[{\"container_id\":\"e9c6def1ea1468b67b5bb8c010eff03febadf40e8b1727d6dadf8a72ddeb9c9a\",\"container_name\":\"vexa-bot-11-4f4fd204\",\"platform\":\"google_meet\",\"native_meeting_id\":\"phu-przh-ove\",\"status\":\"Up 30 minutes\",\"created_at\":\"2025-04-22T13:27:49+00:00\",\"labels\":{\"org.opencontainers.image.ref.name\":\"ubuntu\",\"org.opencontainers.image.version\":\"22.04\",\"vexa.user_id\":\"2\"},\"meeting_id_from_name\":\"11\"},{\"container_id\":\"433f2e1fd9776f6ddae1262b530b62b66b5a3bca16be9b25bfe1a7b10f3c3967\",\"con...\n"
     ]
    }
   ],
   "source": [
    "running_bots = client.get_running_bots_status()"
   ]
  },
  {
   "cell_type": "code",
   "execution_count": null,
   "metadata": {},
   "outputs": [
    {
     "name": "stdout",
     "output_type": "stream",
     "text": [
      "\n",
      "DEBUG: Making GET request to http://localhost:8056/bots/status\n",
      "DEBUG: Headers: {'Content-Type': 'application/json', 'X-API-Key': 'yl9x4xUZdXnLZsRxfj6A7IQJEyf2czFpQBjV1e93'}\n",
      "DEBUG: Params: None\n",
      "DEBUG: JSON data: None\n",
      "DEBUG: Response status: 200\n",
      "DEBUG: Response headers: {'date': 'Tue, 22 Apr 2025 13:58:29 GMT, Tue, 22 Apr 2025 13:58:29 GMT', 'server': 'uvicorn, uvicorn', 'content-length': '1202', 'content-type': 'application/json'}\n",
      "DEBUG: Response content: {\"running_bots\":[{\"container_id\":\"e9c6def1ea1468b67b5bb8c010eff03febadf40e8b1727d6dadf8a72ddeb9c9a\",\"container_name\":\"vexa-bot-11-4f4fd204\",\"platform\":\"google_meet\",\"native_meeting_id\":\"phu-przh-ove\",\"status\":\"Up 30 minutes\",\"created_at\":\"2025-04-22T13:27:49+00:00\",\"labels\":{\"org.opencontainers.image.ref.name\":\"ubuntu\",\"org.opencontainers.image.version\":\"22.04\",\"vexa.user_id\":\"2\"},\"meeting_id_from_name\":\"11\"},{\"container_id\":\"433f2e1fd9776f6ddae1262b530b62b66b5a3bca16be9b25bfe1a7b10f3c3967\",\"con...\n"
     ]
    }
   ],
   "source": [
    "running_bots = client.get_running_bots_status()"
   ]
  },
  {
   "cell_type": "code",
   "execution_count": 25,
   "metadata": {},
   "outputs": [
    {
     "data": {
      "text/plain": [
       "{'detail': 'User has reached the maximum concurrent bot limit (3).'}"
      ]
     },
     "execution_count": 25,
     "metadata": {},
     "output_type": "execute_result"
    }
   ],
   "source": [
    "response.json()"
   ]
  },
  {
   "cell_type": "code",
   "execution_count": 7,
   "metadata": {},
   "outputs": [
    {
     "name": "stdout",
     "output_type": "stream",
     "text": [
      "Status Code: 200\n",
      "Response JSON: {'id': 16, 'platform': 'google_meet', 'native_meeting_id': 'csz-gcbc-nwm', 'constructed_meeting_url': 'https://meet.google.com/csz-gcbc-nwm', 'status': 'active', 'start_time': '2025-04-22T14:46:40.640748', 'end_time': None, 'segments': [{'start': 7.244, 'end': 10.244, 'text': \" Hello, I'm glad to see you.\", 'language': None, 'created_at': None, 'speaker': None, 'absolute_start_time': '2025-04-22T14:47:20.211108+00:00', 'absolute_end_time': '2025-04-22T14:47:23.211108+00:00'}, {'start': 29.256, 'end': 33.256, 'text': ' Okay, now we are going to check the transcript.', 'language': None, 'created_at': None, 'speaker': None, 'absolute_start_time': '2025-04-22T14:47:42.223108+00:00', 'absolute_end_time': '2025-04-22T14:47:46.223108+00:00'}, {'start': 40.399, 'end': 42.399, 'text': ' and we take this away', 'language': None, 'created_at': None, 'speaker': None, 'absolute_start_time': '2025-04-22T14:47:53.366108+00:00', 'absolute_end_time': '2025-04-22T14:47:55.366108+00:00'}, {'start': 42.399, 'end': 45.639, 'text': ' And now I ask you to subscribe to our channel.', 'language': None, 'created_at': None, 'speaker': None, 'absolute_start_time': '2025-04-22T14:47:55.366108+00:00', 'absolute_end_time': '2025-04-22T14:47:58.606108+00:00'}, {'start': 65.678, 'end': 67.678, 'text': ' we also need to add', 'language': None, 'created_at': None, 'speaker': None, 'absolute_start_time': '2025-04-22T14:48:18.645108+00:00', 'absolute_end_time': '2025-04-22T14:48:20.645108+00:00'}, {'start': 67.678, 'end': 69.678, 'text': ' we have here', 'language': None, 'created_at': None, 'speaker': None, 'absolute_start_time': '2025-04-22T14:48:20.645108+00:00', 'absolute_end_time': '2025-04-22T14:48:22.645108+00:00'}, {'start': 69.678, 'end': 71.678, 'text': ' installed', 'language': None, 'created_at': None, 'speaker': None, 'absolute_start_time': '2025-04-22T14:48:22.645108+00:00', 'absolute_end_time': '2025-04-22T14:48:24.645108+00:00'}, {'start': 71.678, 'end': 78.218, 'text': ' Okay, what do we get?', 'language': None, 'created_at': None, 'speaker': None, 'absolute_start_time': '2025-04-22T14:48:24.645108+00:00', 'absolute_end_time': '2025-04-22T14:48:31.185108+00:00'}, {'start': 75.218, 'end': 78.218, 'text': ' Okay, what do we get?', 'language': None, 'created_at': None, 'speaker': None, 'absolute_start_time': '2025-04-22T14:48:28.185108+00:00', 'absolute_end_time': '2025-04-22T14:48:31.185108+00:00'}, {'start': 80.987, 'end': 82.752, 'text': ' Mmm, culture.', 'language': None, 'created_at': None, 'speaker': None, 'absolute_start_time': '2025-04-22T14:48:33.954108+00:00', 'absolute_end_time': '2025-04-22T14:48:35.719108+00:00'}]}\n"
     ]
    }
   ],
   "source": [
    "\n",
    "get_transcript_url = f\"{BASE_URL}/transcripts/{meeting_platform}/{meeting_id}\"\n",
    "\n",
    "response = requests.get(get_transcript_url, headers=HEADERS)\n",
    "response.raise_for_status() # Optional: Check for HTTP errors\n",
    "\n",
    "print(f\"Status Code: {response.status_code}\")\n",
    "print(\"Response JSON:\", response.json())"
   ]
  },
  {
   "cell_type": "code",
   "execution_count": 9,
   "metadata": {},
   "outputs": [
    {
     "data": {
      "text/plain": [
       "{'id': 16,\n",
       " 'platform': 'google_meet',\n",
       " 'native_meeting_id': 'csz-gcbc-nwm',\n",
       " 'constructed_meeting_url': 'https://meet.google.com/csz-gcbc-nwm',\n",
       " 'status': 'active',\n",
       " 'start_time': '2025-04-22T14:46:40.640748',\n",
       " 'end_time': None,\n",
       " 'segments': [{'start': 7.244,\n",
       "   'end': 10.244,\n",
       "   'text': \" Hello, I'm glad to see you.\",\n",
       "   'language': None,\n",
       "   'created_at': None,\n",
       "   'speaker': None,\n",
       "   'absolute_start_time': '2025-04-22T14:47:20.211108+00:00',\n",
       "   'absolute_end_time': '2025-04-22T14:47:23.211108+00:00'},\n",
       "  {'start': 29.256,\n",
       "   'end': 33.256,\n",
       "   'text': ' Okay, now we are going to check the transcript.',\n",
       "   'language': None,\n",
       "   'created_at': None,\n",
       "   'speaker': None,\n",
       "   'absolute_start_time': '2025-04-22T14:47:42.223108+00:00',\n",
       "   'absolute_end_time': '2025-04-22T14:47:46.223108+00:00'},\n",
       "  {'start': 40.399,\n",
       "   'end': 42.399,\n",
       "   'text': ' and we take this away',\n",
       "   'language': None,\n",
       "   'created_at': None,\n",
       "   'speaker': None,\n",
       "   'absolute_start_time': '2025-04-22T14:47:53.366108+00:00',\n",
       "   'absolute_end_time': '2025-04-22T14:47:55.366108+00:00'},\n",
       "  {'start': 42.399,\n",
       "   'end': 45.639,\n",
       "   'text': ' And now I ask you to subscribe to our channel.',\n",
       "   'language': None,\n",
       "   'created_at': None,\n",
       "   'speaker': None,\n",
       "   'absolute_start_time': '2025-04-22T14:47:55.366108+00:00',\n",
       "   'absolute_end_time': '2025-04-22T14:47:58.606108+00:00'},\n",
       "  {'start': 65.678,\n",
       "   'end': 67.678,\n",
       "   'text': ' we also need to add',\n",
       "   'language': None,\n",
       "   'created_at': None,\n",
       "   'speaker': None,\n",
       "   'absolute_start_time': '2025-04-22T14:48:18.645108+00:00',\n",
       "   'absolute_end_time': '2025-04-22T14:48:20.645108+00:00'},\n",
       "  {'start': 67.678,\n",
       "   'end': 69.678,\n",
       "   'text': ' we have here',\n",
       "   'language': None,\n",
       "   'created_at': None,\n",
       "   'speaker': None,\n",
       "   'absolute_start_time': '2025-04-22T14:48:20.645108+00:00',\n",
       "   'absolute_end_time': '2025-04-22T14:48:22.645108+00:00'},\n",
       "  {'start': 69.678,\n",
       "   'end': 71.678,\n",
       "   'text': ' installed',\n",
       "   'language': None,\n",
       "   'created_at': None,\n",
       "   'speaker': None,\n",
       "   'absolute_start_time': '2025-04-22T14:48:22.645108+00:00',\n",
       "   'absolute_end_time': '2025-04-22T14:48:24.645108+00:00'},\n",
       "  {'start': 71.678,\n",
       "   'end': 78.218,\n",
       "   'text': ' Okay, what do we get?',\n",
       "   'language': None,\n",
       "   'created_at': None,\n",
       "   'speaker': None,\n",
       "   'absolute_start_time': '2025-04-22T14:48:24.645108+00:00',\n",
       "   'absolute_end_time': '2025-04-22T14:48:31.185108+00:00'},\n",
       "  {'start': 75.218,\n",
       "   'end': 78.218,\n",
       "   'text': ' Okay, what do we get?',\n",
       "   'language': None,\n",
       "   'created_at': None,\n",
       "   'speaker': None,\n",
       "   'absolute_start_time': '2025-04-22T14:48:28.185108+00:00',\n",
       "   'absolute_end_time': '2025-04-22T14:48:31.185108+00:00'},\n",
       "  {'start': 80.987,\n",
       "   'end': 82.752,\n",
       "   'text': ' Mmm, culture.',\n",
       "   'language': None,\n",
       "   'created_at': None,\n",
       "   'speaker': None,\n",
       "   'absolute_start_time': '2025-04-22T14:48:33.954108+00:00',\n",
       "   'absolute_end_time': '2025-04-22T14:48:35.719108+00:00'}]}"
      ]
     },
     "execution_count": 9,
     "metadata": {},
     "output_type": "execute_result"
    }
   ],
   "source": [
    "response.json()"
   ]
  },
  {
   "cell_type": "code",
   "execution_count": 10,
   "metadata": {},
   "outputs": [
    {
     "name": "stdout",
     "output_type": "stream",
     "text": [
      "Status Code: 200\n",
      "Response JSON: {'running_bots': [{'container_id': '74db20c82144c09023b28ab15c9d077e3fb3cf904b50a70507b2273e64c59c85', 'container_name': 'vexa-bot-16-1e07a46e', 'platform': 'google_meet', 'native_meeting_id': 'csz-gcbc-nwm', 'status': 'Up 3 minutes', 'created_at': '2025-04-22T14:46:40+00:00', 'labels': {'org.opencontainers.image.ref.name': 'ubuntu', 'org.opencontainers.image.version': '22.04', 'vexa.user_id': '2'}, 'meeting_id_from_name': '16'}]}\n"
     ]
    }
   ],
   "source": [
    "get_status_url = f\"{BASE_URL}/bots/status\"\n",
    "\n",
    "response = requests.get(get_status_url, headers=HEADERS)\n",
    "response.raise_for_status() # Optional: Check for HTTP errors\n",
    "\n",
    "print(f\"Status Code: {response.status_code}\")\n",
    "print(\"Response JSON:\", response.json())"
   ]
  },
  {
   "cell_type": "code",
   "execution_count": 26,
   "metadata": {},
   "outputs": [
    {
     "ename": "HTTPError",
     "evalue": "409 Client Error: Conflict for url: http://localhost:8056/bots/google_meet/hnz-giry-oqx/config",
     "output_type": "error",
     "traceback": [
      "\u001b[0;31m---------------------------------------------------------------------------\u001b[0m",
      "\u001b[0;31mHTTPError\u001b[0m                                 Traceback (most recent call last)",
      "Cell \u001b[0;32mIn[26], line 7\u001b[0m\n\u001b[1;32m      2\u001b[0m update_payload \u001b[38;5;241m=\u001b[39m {\n\u001b[1;32m      3\u001b[0m     \u001b[38;5;124m\"\u001b[39m\u001b[38;5;124mlanguage\u001b[39m\u001b[38;5;124m\"\u001b[39m: \u001b[38;5;124m\"\u001b[39m\u001b[38;5;124mes\u001b[39m\u001b[38;5;124m\"\u001b[39m \u001b[38;5;66;03m# Example: change language to Spanish\u001b[39;00m\n\u001b[1;32m      4\u001b[0m }\n\u001b[1;32m      6\u001b[0m response \u001b[38;5;241m=\u001b[39m requests\u001b[38;5;241m.\u001b[39mput(update_config_url, headers\u001b[38;5;241m=\u001b[39mHEADERS, json\u001b[38;5;241m=\u001b[39mupdate_payload)\n\u001b[0;32m----> 7\u001b[0m \u001b[43mresponse\u001b[49m\u001b[38;5;241;43m.\u001b[39;49m\u001b[43mraise_for_status\u001b[49m\u001b[43m(\u001b[49m\u001b[43m)\u001b[49m \u001b[38;5;66;03m# Optional: Check for HTTP errors\u001b[39;00m\n\u001b[1;32m      9\u001b[0m \u001b[38;5;28mprint\u001b[39m(\u001b[38;5;124mf\u001b[39m\u001b[38;5;124m\"\u001b[39m\u001b[38;5;124mStatus Code: \u001b[39m\u001b[38;5;132;01m{\u001b[39;00mresponse\u001b[38;5;241m.\u001b[39mstatus_code\u001b[38;5;132;01m}\u001b[39;00m\u001b[38;5;124m\"\u001b[39m)\n\u001b[1;32m     10\u001b[0m \u001b[38;5;66;03m# PUT might return empty body or confirmation message\u001b[39;00m\n",
      "File \u001b[0;32m~/anaconda3/envs/langchain/lib/python3.11/site-packages/requests/models.py:1024\u001b[0m, in \u001b[0;36mResponse.raise_for_status\u001b[0;34m(self)\u001b[0m\n\u001b[1;32m   1019\u001b[0m     http_error_msg \u001b[38;5;241m=\u001b[39m (\n\u001b[1;32m   1020\u001b[0m         \u001b[38;5;124mf\u001b[39m\u001b[38;5;124m\"\u001b[39m\u001b[38;5;132;01m{\u001b[39;00m\u001b[38;5;28mself\u001b[39m\u001b[38;5;241m.\u001b[39mstatus_code\u001b[38;5;132;01m}\u001b[39;00m\u001b[38;5;124m Server Error: \u001b[39m\u001b[38;5;132;01m{\u001b[39;00mreason\u001b[38;5;132;01m}\u001b[39;00m\u001b[38;5;124m for url: \u001b[39m\u001b[38;5;132;01m{\u001b[39;00m\u001b[38;5;28mself\u001b[39m\u001b[38;5;241m.\u001b[39murl\u001b[38;5;132;01m}\u001b[39;00m\u001b[38;5;124m\"\u001b[39m\n\u001b[1;32m   1021\u001b[0m     )\n\u001b[1;32m   1023\u001b[0m \u001b[38;5;28;01mif\u001b[39;00m http_error_msg:\n\u001b[0;32m-> 1024\u001b[0m     \u001b[38;5;28;01mraise\u001b[39;00m HTTPError(http_error_msg, response\u001b[38;5;241m=\u001b[39m\u001b[38;5;28mself\u001b[39m)\n",
      "\u001b[0;31mHTTPError\u001b[0m: 409 Client Error: Conflict for url: http://localhost:8056/bots/google_meet/hnz-giry-oqx/config"
     ]
    }
   ],
   "source": [
    "update_config_url = f\"{BASE_URL}/bots/{meeting_platform}/{meeting_id}/config\"\n",
    "update_payload = {\n",
    "    \"language\": \"es\" # Example: change language to Spanish\n",
    "}\n",
    "\n",
    "response = requests.put(update_config_url, headers=HEADERS, json=update_payload)\n",
    "response.raise_for_status() # Optional: Check for HTTP errors\n",
    "\n",
    "print(f\"Status Code: {response.status_code}\")\n",
    "# PUT might return empty body or confirmation message\n",
    "if response.content:\n",
    "    try:\n",
    "       print(\"Response JSON:\", response.json())\n",
    "    except json.JSONDecodeError:\n",
    "       print(\"Response Text:\", response.text)\n",
    "else:\n",
    "    print(\"Request accepted (No Content)\")"
   ]
  },
  {
   "cell_type": "code",
   "execution_count": null,
   "metadata": {},
   "outputs": [
    {
     "data": {
      "text/plain": [
       "{'detail': 'Active meeting not found.'}"
      ]
     },
     "execution_count": 30,
     "metadata": {},
     "output_type": "execute_result"
    }
   ],
   "source": []
  }
 ],
 "metadata": {
  "kernelspec": {
   "display_name": "langchain",
   "language": "python",
   "name": "python3"
  },
  "language_info": {
   "codemirror_mode": {
    "name": "ipython",
    "version": 3
   },
   "file_extension": ".py",
   "mimetype": "text/x-python",
   "name": "python",
   "nbconvert_exporter": "python",
   "pygments_lexer": "ipython3",
   "version": "3.11.2"
  }
 },
 "nbformat": 4,
 "nbformat_minor": 2
}
